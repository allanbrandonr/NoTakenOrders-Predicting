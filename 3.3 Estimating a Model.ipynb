{
 "cells": [
  {
   "cell_type": "markdown",
   "metadata": {},
   "source": [
    "## Importing"
   ]
  },
  {
   "cell_type": "code",
   "execution_count": 1,
   "metadata": {},
   "outputs": [],
   "source": [
    "import pandas as pd\n",
    "import seaborn as sns\n",
    "import pydotplus\n",
    "\n",
    "from sklearn import tree\n",
    "from sklearn.model_selection import train_test_split\n",
    "from sklearn.tree import DecisionTreeClassifier\n",
    "from sklearn.metrics import f1_score, roc_auc_score\n",
    "from sklearn.utils import resample"
   ]
  },
  {
   "cell_type": "code",
   "execution_count": 2,
   "metadata": {},
   "outputs": [],
   "source": [
    "# import data data\n",
    "orders = pd.read_csv(\"orders_clean.csv\", parse_dates = [\"created_at\"])\n",
    "\n",
    "# Ill switch the variable taken for no taken in order to evaluate how good a model predicts no taken orders\n",
    "orders['ind_no_taken'] = 1 - orders.taken\n",
    "orders['ind_store_no_taken_L1H'] = orders.store_notaken_L1H\n"
   ]
  },
  {
   "cell_type": "code",
   "execution_count": null,
   "metadata": {},
   "outputs": [],
   "source": []
  },
  {
   "cell_type": "markdown",
   "metadata": {},
   "source": [
    "## Splitting data"
   ]
  },
  {
   "cell_type": "code",
   "execution_count": 3,
   "metadata": {},
   "outputs": [],
   "source": [
    "# sets of features and response variable\n",
    "X = orders[[\"to_user_distance\", \"total_earning\", \"ind_store_no_taken_L1H\", \"week_day\"]]\n",
    "y = orders['ind_no_taken']\n"
   ]
  },
  {
   "cell_type": "code",
   "execution_count": 4,
   "metadata": {},
   "outputs": [],
   "source": [
    "# splitting into train and test\n",
    "X_train, X_test, y_train, y_test = train_test_split(X, y, test_size = 0.20, random_state = 123)"
   ]
  },
  {
   "cell_type": "code",
   "execution_count": null,
   "metadata": {},
   "outputs": [],
   "source": []
  },
  {
   "cell_type": "markdown",
   "metadata": {},
   "source": [
    "## Re sample to balance classes in train set"
   ]
  },
  {
   "cell_type": "code",
   "execution_count": 5,
   "metadata": {},
   "outputs": [],
   "source": [
    "# As proportion of taken orders is substantially higher than the prop of non taken orders\n",
    "# classifiers may be biased and tend to classify a lot orders as taken\n",
    "# I decided to oversample in the train set in order to compensate this as it is a quick and effective approach"
   ]
  },
  {
   "cell_type": "code",
   "execution_count": 6,
   "metadata": {},
   "outputs": [],
   "source": [
    "# join X and y train sets\n",
    "train = pd.merge(X_train, y_train, left_index=True, right_index=True)"
   ]
  },
  {
   "cell_type": "code",
   "execution_count": 7,
   "metadata": {},
   "outputs": [
    {
     "data": {
      "text/plain": [
       "0    108385\n",
       "1      9156\n",
       "Name: ind_no_taken, dtype: int64"
      ]
     },
     "execution_count": 7,
     "metadata": {},
     "output_type": "execute_result"
    }
   ],
   "source": [
    "# count by class\n",
    "train.ind_no_taken.value_counts()                                                              "
   ]
  },
  {
   "cell_type": "code",
   "execution_count": 8,
   "metadata": {},
   "outputs": [],
   "source": [
    "# separate classes\n",
    "train_majority = train[train.ind_no_taken==0]\n",
    "train_minority = train[train.ind_no_taken==1]\n",
    " \n",
    "# Upsample the no taken minority class\n",
    "train_minority_upsampled = resample(train_minority, replace=True, n_samples=108385, random_state=123)\n",
    " \n",
    "# Combine new sample data\n",
    "train_upsampled = pd.concat([train_majority, train_minority_upsampled])"
   ]
  },
  {
   "cell_type": "code",
   "execution_count": 9,
   "metadata": {},
   "outputs": [
    {
     "data": {
      "text/plain": [
       "1    108385\n",
       "0    108385\n",
       "Name: ind_no_taken, dtype: int64"
      ]
     },
     "execution_count": 9,
     "metadata": {},
     "output_type": "execute_result"
    }
   ],
   "source": [
    "# count by class\n",
    "train_upsampled.ind_no_taken.value_counts()                                                              "
   ]
  },
  {
   "cell_type": "code",
   "execution_count": 10,
   "metadata": {},
   "outputs": [],
   "source": [
    "# sets of features and response variable\n",
    "X_train = train_upsampled[[\"to_user_distance\", \"total_earning\", \"ind_store_no_taken_L1H\", \"week_day\"]]\n",
    "y_train = train_upsampled['ind_no_taken']\n"
   ]
  },
  {
   "cell_type": "code",
   "execution_count": 11,
   "metadata": {},
   "outputs": [],
   "source": [
    "# Important: \n",
    "# By over sampling no-taken orders, probabilities estimated by a model mustn't be used right away\n",
    "# Interpretation must rely on proportional relation or difference between probabilities estimated \n",
    "# for different orders or segments\n"
   ]
  },
  {
   "cell_type": "code",
   "execution_count": 12,
   "metadata": {},
   "outputs": [
    {
     "data": {
      "text/plain": [
       "0    27011\n",
       "1     2375\n",
       "Name: ind_no_taken, dtype: int64"
      ]
     },
     "execution_count": 12,
     "metadata": {},
     "output_type": "execute_result"
    }
   ],
   "source": [
    "# Lets see the distribution in the test set, test set may not be up sampled\n",
    "y_test.value_counts()  "
   ]
  },
  {
   "cell_type": "code",
   "execution_count": null,
   "metadata": {},
   "outputs": [],
   "source": []
  },
  {
   "cell_type": "markdown",
   "metadata": {},
   "source": [
    "## Compare models"
   ]
  },
  {
   "cell_type": "code",
   "execution_count": 13,
   "metadata": {},
   "outputs": [
    {
     "name": "stdout",
     "output_type": "stream",
     "text": [
      "1\n",
      "2\n",
      "3\n",
      "4\n",
      "5\n",
      "6\n",
      "7\n",
      "8\n",
      "9\n",
      "10\n",
      "11\n",
      "12\n",
      "13\n",
      "14\n",
      "15\n",
      "16\n",
      "17\n",
      "18\n",
      "19\n",
      "20\n",
      "21\n",
      "22\n",
      "23\n",
      "24\n",
      "25\n",
      "26\n",
      "27\n",
      "28\n",
      "29\n",
      "30\n"
     ]
    }
   ],
   "source": [
    "# check performance depending on depth\n",
    "depth = []\n",
    "train_f1_score = []\n",
    "test_f1_score = []\n",
    "\n",
    "for d_i in range(1,31):\n",
    "    \n",
    "    print(d_i)\n",
    "    \n",
    "    # start classifier\n",
    "    classifier_i = DecisionTreeClassifier(max_depth = d_i, min_samples_leaf = 100)\n",
    "    \n",
    "    # fit classifier\n",
    "    classifier_i.fit(X_train, y_train)\n",
    "\n",
    "    # predicitons\n",
    "    y_hat_train_i = classifier_i.predict(X_train)\n",
    "    y_hat_test_i = classifier_i.predict(X_test)\n",
    "\n",
    "    # f1 scores\n",
    "    f1_train_i = f1_score(y_train, y_hat_train_i)\n",
    "    f1_test_i = f1_score(y_test, y_hat_test_i)\n",
    "    \n",
    "    depth.append(d_i)  \n",
    "    train_f1_score.append(round(f1_train_i, 4))\n",
    "    test_f1_score.append(round(f1_test_i, 4))\n",
    "    \n",
    "# include scores in a table\n",
    "perf = pd.DataFrame({'depth':depth, \n",
    "                     'train_f1_score':train_f1_score, \n",
    "                     'test_f1_score':test_f1_score})\n",
    "\n",
    "perf['test_vs_train'] = perf.test_f1_score/perf.train_f1_score"
   ]
  },
  {
   "cell_type": "code",
   "execution_count": 14,
   "metadata": {},
   "outputs": [
    {
     "data": {
      "text/plain": [
       "Text(0.5,1,'Train - f1 score')"
      ]
     },
     "execution_count": 14,
     "metadata": {},
     "output_type": "execute_result"
    },
    {
     "data": {
      "image/png": "[encoded data removed]",
      "text/plain": [
       "<Figure size 432x288 with 1 Axes>"
      ]
     },
     "metadata": {
      "needs_background": "light"
     },
     "output_type": "display_data"
    }
   ],
   "source": [
    "# check train f1 score\n",
    "sns.scatterplot(x=\"depth\", y=\"train_f1_score\",data=perf).set_title('Train - f1 score')"
   ]
  },
  {
   "cell_type": "code",
   "execution_count": 15,
   "metadata": {},
   "outputs": [
    {
     "data": {
      "text/plain": [
       "Text(0.5,1,'Test - f1 score')"
      ]
     },
     "execution_count": 15,
     "metadata": {},
     "output_type": "execute_result"
    },
    {
     "data": {
      "image/png": "[encoded data removed]",
      "text/plain": [
       "<Figure size 432x288 with 1 Axes>"
      ]
     },
     "metadata": {
      "needs_background": "light"
     },
     "output_type": "display_data"
    }
   ],
   "source": [
    "# check test f1 score\n",
    "sns.scatterplot(x=\"depth\", y=\"test_f1_score\",data=perf).set_title('Test - f1 score')"
   ]
  },
  {
   "cell_type": "code",
   "execution_count": 16,
   "metadata": {},
   "outputs": [
    {
     "data": {
      "text/plain": [
       "Text(0.5,1,'Test/train - f1 score')"
      ]
     },
     "execution_count": 16,
     "metadata": {},
     "output_type": "execute_result"
    },
    {
     "data": {
      "image/png": "[encoded data removed]",
      "text/plain": [
       "<Figure size 432x288 with 1 Axes>"
      ]
     },
     "metadata": {
      "needs_background": "light"
     },
     "output_type": "display_data"
    }
   ],
   "source": [
    "# check test f1 score\n",
    "sns.scatterplot(x=\"depth\", y=\"test_vs_train\",data=perf).set_title('Test/train - f1 score')"
   ]
  },
  {
   "cell_type": "code",
   "execution_count": 17,
   "metadata": {},
   "outputs": [
    {
     "data": {
      "text/html": [
       "<div>\n",
       "<style scoped>\n",
       "    .dataframe tbody tr th:only-of-type {\n",
       "        vertical-align: middle;\n",
       "    }\n",
       "\n",
       "    .dataframe tbody tr th {\n",
       "        vertical-align: top;\n",
       "    }\n",
       "\n",
       "    .dataframe thead th {\n",
       "        text-align: right;\n",
       "    }\n",
       "</style>\n",
       "<table border=\"1\" class=\"dataframe\">\n",
       "  <thead>\n",
       "    <tr style=\"text-align: right;\">\n",
       "      <th></th>\n",
       "      <th>depth</th>\n",
       "      <th>train_f1_score</th>\n",
       "      <th>test_f1_score</th>\n",
       "      <th>test_vs_train</th>\n",
       "    </tr>\n",
       "  </thead>\n",
       "  <tbody>\n",
       "    <tr>\n",
       "      <th>2</th>\n",
       "      <td>3</td>\n",
       "      <td>0.5246</td>\n",
       "      <td>0.2305</td>\n",
       "      <td>0.439382</td>\n",
       "    </tr>\n",
       "    <tr>\n",
       "      <th>10</th>\n",
       "      <td>11</td>\n",
       "      <td>0.6752</td>\n",
       "      <td>0.2276</td>\n",
       "      <td>0.337085</td>\n",
       "    </tr>\n",
       "    <tr>\n",
       "      <th>12</th>\n",
       "      <td>13</td>\n",
       "      <td>0.6865</td>\n",
       "      <td>0.2248</td>\n",
       "      <td>0.327458</td>\n",
       "    </tr>\n",
       "  </tbody>\n",
       "</table>\n",
       "</div>"
      ],
      "text/plain": [
       "    depth  train_f1_score  test_f1_score  test_vs_train\n",
       "2       3          0.5246         0.2305       0.439382\n",
       "10     11          0.6752         0.2276       0.337085\n",
       "12     13          0.6865         0.2248       0.327458"
      ]
     },
     "execution_count": 17,
     "metadata": {},
     "output_type": "execute_result"
    }
   ],
   "source": [
    "# look at best values in test\n",
    "perf.sort_values(\"test_f1_score\", ascending = False).head(3)"
   ]
  },
  {
   "cell_type": "code",
   "execution_count": 18,
   "metadata": {},
   "outputs": [
    {
     "data": {
      "text/html": [
       "<div>\n",
       "<style scoped>\n",
       "    .dataframe tbody tr th:only-of-type {\n",
       "        vertical-align: middle;\n",
       "    }\n",
       "\n",
       "    .dataframe tbody tr th {\n",
       "        vertical-align: top;\n",
       "    }\n",
       "\n",
       "    .dataframe thead th {\n",
       "        text-align: right;\n",
       "    }\n",
       "</style>\n",
       "<table border=\"1\" class=\"dataframe\">\n",
       "  <thead>\n",
       "    <tr style=\"text-align: right;\">\n",
       "      <th></th>\n",
       "      <th>depth</th>\n",
       "      <th>train_f1_score</th>\n",
       "      <th>test_f1_score</th>\n",
       "      <th>test_vs_train</th>\n",
       "    </tr>\n",
       "  </thead>\n",
       "  <tbody>\n",
       "    <tr>\n",
       "      <th>0</th>\n",
       "      <td>1</td>\n",
       "      <td>0.4272</td>\n",
       "      <td>0.1978</td>\n",
       "      <td>0.463015</td>\n",
       "    </tr>\n",
       "    <tr>\n",
       "      <th>2</th>\n",
       "      <td>3</td>\n",
       "      <td>0.5246</td>\n",
       "      <td>0.2305</td>\n",
       "      <td>0.439382</td>\n",
       "    </tr>\n",
       "    <tr>\n",
       "      <th>1</th>\n",
       "      <td>2</td>\n",
       "      <td>0.5803</td>\n",
       "      <td>0.2062</td>\n",
       "      <td>0.355333</td>\n",
       "    </tr>\n",
       "  </tbody>\n",
       "</table>\n",
       "</div>"
      ],
      "text/plain": [
       "   depth  train_f1_score  test_f1_score  test_vs_train\n",
       "0      1          0.4272         0.1978       0.463015\n",
       "2      3          0.5246         0.2305       0.439382\n",
       "1      2          0.5803         0.2062       0.355333"
      ]
     },
     "execution_count": 18,
     "metadata": {},
     "output_type": "execute_result"
    }
   ],
   "source": [
    "# look at best values of ratio test/train\n",
    "perf.sort_values(\"test_vs_train\", ascending = False).head(3)"
   ]
  },
  {
   "cell_type": "code",
   "execution_count": 19,
   "metadata": {},
   "outputs": [],
   "source": [
    "# A dummy classifier may be one that estimates 1 with probablity p = proportion of 1's in the set\n",
    "#    the f1 score of this dummy classifier results to be p\n",
    "# p = 0.0808 in the test set\n",
    "# The maximum performance in test is observed at depth = 3\n",
    "#    -> test_f1_score = 0.2305, ~185% better than the dummy estimator\n",
    "\n",
    "# At depth = 3, test f1 score has one of the least drop offs vs train f1 score\n",
    "#       model does not seem to overfit becaus it has one of the lowest value of trainning f1 score"
   ]
  },
  {
   "cell_type": "code",
   "execution_count": null,
   "metadata": {},
   "outputs": [],
   "source": []
  },
  {
   "cell_type": "markdown",
   "metadata": {},
   "source": [
    "### Select a small tree for interpretation"
   ]
  },
  {
   "cell_type": "code",
   "execution_count": 20,
   "metadata": {},
   "outputs": [
    {
     "name": "stdout",
     "output_type": "stream",
     "text": [
      "Training f1 score: 0.5246\n",
      "Testing f1 score: 0.2305\n"
     ]
    }
   ],
   "source": [
    "# start classifier\n",
    "classifier = DecisionTreeClassifier(max_depth = 3, min_samples_leaf = 100)\n",
    "\n",
    "# fit classifier\n",
    "classifier.fit(X_train, y_train)\n",
    "\n",
    "# predicitons\n",
    "y_hat_train = classifier.predict(X_train)\n",
    "y_hat_test = classifier.predict(X_test)\n",
    "\n",
    "# f1 scores\n",
    "f1_train = f1_score(y_train, y_hat_train)\n",
    "f1_test = f1_score(y_test, y_hat_test)\n",
    "\n",
    "print('Training f1 score: ' + str(round(f1_train, 4)))\n",
    "print('Testing f1 score: ' + str(round(f1_test, 4)))"
   ]
  },
  {
   "cell_type": "code",
   "execution_count": 21,
   "metadata": {},
   "outputs": [],
   "source": [
    "# dot data\n",
    "dot_data = tree.export_graphviz(classifier, \n",
    "                                feature_names=[\"to_user_distance\", \"total_earning\", \"ind_store_no_taken_L1H\", \"week_day\"],\n",
    "                                class_names=[\"taken\", \"no_taken\"],\n",
    "                                out_file=None,\n",
    "                                filled=True,\n",
    "                                rounded=True,\n",
    "                                impurity=False,\n",
    "                                proportion=True,\n",
    "                                rotate=True)"
   ]
  },
  {
   "cell_type": "code",
   "execution_count": 22,
   "metadata": {},
   "outputs": [
    {
     "data": {
      "text/plain": [
       "True"
      ]
     },
     "execution_count": 22,
     "metadata": {},
     "output_type": "execute_result"
    }
   ],
   "source": [
    "# Draw graph\n",
    "graph = pydotplus.graph_from_dot_data(dot_data)\n",
    "graph.write_png('tree_depth_4.png')\n"
   ]
  },
  {
   "cell_type": "code",
   "execution_count": 23,
   "metadata": {},
   "outputs": [],
   "source": [
    "# Some insights\n",
    "\n",
    "# In general and thinking in ralative terms\n",
    "\n",
    "# An order is 50% more probable to not be taken when there was at least one previous not-taken order \n",
    "#.    from the same restaurant than when all orders where accepted (during L1H)\n",
    "\n",
    "# Orders with earnings < 4k are between 25%-50% more probable to not be taken than orders w/ earnings > 4k\n",
    "\n",
    "# Orders with to user distance < 1.2 are between 30%-50% more probable to not be taken than orders\n",
    "#.    w/ to user distance > 1.2\n",
    "\n",
    "\n",
    "# Whenever these three conditions hold at the same time\n",
    "#     there was at least one previous not-taken order from the same restaurant (during L1H)\n",
    "#     earnings < 4k\n",
    "#     distance > 1.2\n",
    "# Orders are ~75% more probable to not be taken\n"
   ]
  },
  {
   "cell_type": "code",
   "execution_count": null,
   "metadata": {},
   "outputs": [],
   "source": []
  },
  {
   "cell_type": "code",
   "execution_count": null,
   "metadata": {},
   "outputs": [],
   "source": []
  },
  {
   "cell_type": "code",
   "execution_count": null,
   "metadata": {},
   "outputs": [],
   "source": []
  },
  {
   "cell_type": "code",
   "execution_count": null,
   "metadata": {},
   "outputs": [],
   "source": []
  },
  {
   "cell_type": "code",
   "execution_count": null,
   "metadata": {},
   "outputs": [],
   "source": []
  },
  {
   "cell_type": "code",
   "execution_count": null,
   "metadata": {},
   "outputs": [],
   "source": []
  },
  {
   "cell_type": "code",
   "execution_count": null,
   "metadata": {},
   "outputs": [],
   "source": []
  },
  {
   "cell_type": "code",
   "execution_count": null,
   "metadata": {},
   "outputs": [],
   "source": []
  },
  {
   "cell_type": "code",
   "execution_count": null,
   "metadata": {},
   "outputs": [],
   "source": []
  }
 ],
 "metadata": {
  "kernelspec": {
   "display_name": "Python 3",
   "language": "python",
   "name": "python3"
  },
  "language_info": {
   "codemirror_mode": {
    "name": "ipython",
    "version": 3
   },
   "file_extension": ".py",
   "mimetype": "text/x-python",
   "name": "python",
   "nbconvert_exporter": "python",
   "pygments_lexer": "ipython3",
   "version": "3.6.12"
  }
 },
 "nbformat": 4,
 "nbformat_minor": 4
}
